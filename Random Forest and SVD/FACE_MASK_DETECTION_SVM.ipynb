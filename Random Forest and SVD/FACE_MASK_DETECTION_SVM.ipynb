{
  "nbformat": 4,
  "nbformat_minor": 0,
  "metadata": {
    "colab": {
      "name": "FACE_MASK_DETECTION-SVM.ipynb",
      "provenance": [],
      "collapsed_sections": []
    },
    "kernelspec": {
      "display_name": "Python 3",
      "language": "python",
      "name": "python3"
    },
    "language_info": {
      "codemirror_mode": {
        "name": "ipython",
        "version": 3
      },
      "file_extension": ".py",
      "mimetype": "text/x-python",
      "name": "python",
      "nbconvert_exporter": "python",
      "pygments_lexer": "ipython3",
      "version": "3.6.5"
    }
  },
  "cells": [
    {
      "cell_type": "code",
      "metadata": {
        "id": "d40gkSytjzvh"
      },
      "source": [
        ""
      ],
      "execution_count": null,
      "outputs": []
    },
    {
      "cell_type": "code",
      "metadata": {
        "id": "OF7sT6-ljzxa"
      },
      "source": [
        "import numpy as np \n",
        "import cv2"
      ],
      "execution_count": null,
      "outputs": []
    },
    {
      "cell_type": "code",
      "metadata": {
        "id": "2WMVnF-98B7o",
        "outputId": "a1c41bae-edf3-4448-b371-e3637820a40d"
      },
      "source": [
        "\n",
        "X = np.load('dataX.npy')\n",
        "Y = np.load('dataY.npy')\n",
        "print(X.shape)\n",
        "X=X.reshape(4072,100*100*3)\n",
        "X.shape"
      ],
      "execution_count": null,
      "outputs": [
        {
          "output_type": "stream",
          "text": [
            "(4072, 100, 100, 3)\n"
          ],
          "name": "stdout"
        },
        {
          "output_type": "execute_result",
          "data": {
            "text/plain": [
              "(4072, 30000)"
            ]
          },
          "metadata": {
            "tags": []
          },
          "execution_count": 2
        }
      ]
    },
    {
      "cell_type": "code",
      "metadata": {
        "id": "Lw1fdPmo8B7t",
        "outputId": "a11bf3f8-57e7-423f-a18c-5be58aa38795"
      },
      "source": [
        "print(Y.shape)\n",
        "Y"
      ],
      "execution_count": null,
      "outputs": [
        {
          "output_type": "stream",
          "text": [
            "(4072, 3)\n"
          ],
          "name": "stdout"
        },
        {
          "output_type": "execute_result",
          "data": {
            "text/plain": [
              "array([[1., 0., 0.],\n",
              "       [0., 1., 0.],\n",
              "       [1., 0., 0.],\n",
              "       ...,\n",
              "       [0., 0., 1.],\n",
              "       [0., 1., 0.],\n",
              "       [0., 1., 0.]], dtype=float32)"
            ]
          },
          "metadata": {
            "tags": []
          },
          "execution_count": 3
        }
      ]
    },
    {
      "cell_type": "code",
      "metadata": {
        "id": "ROFeAwpE8B7w",
        "outputId": "8f7db51b-9674-4d2a-f969-c16e24c6e818"
      },
      "source": [
        "import seaborn as sns\n",
        "import matplotlib.pyplot as plt\n",
        "ax = sns.countplot(np.argmax(Y, axis=1), palette=\"Set1\", alpha=0.8)\n",
        "ax.set_xticklabels(['without_mask', 'with_mask', 'mask_weared_incorrect'], rotation=30, ha=\"right\", fontsize=15)\n",
        "plt.show()"
      ],
      "execution_count": null,
      "outputs": [
        {
          "output_type": "stream",
          "text": [
            "C:\\Users\\Amar kumar\\AppData\\Local\\Programs\\Python\\Python36\\lib\\site-packages\\seaborn\\_decorators.py:43: FutureWarning: Pass the following variable as a keyword arg: x. From version 0.12, the only valid positional argument will be `data`, and passing other arguments without an explicit keyword will result in an error or misinterpretation.\n",
            "  FutureWarning\n"
          ],
          "name": "stderr"
        },
        {
          "output_type": "display_data",
          "data": {
            "image/png": "[encoded data removed]",
            "text/plain": [
              "<Figure size 432x288 with 1 Axes>"
            ]
          },
          "metadata": {
            "tags": [],
            "needs_background": "light"
          }
        }
      ]
    },
    {
      "cell_type": "code",
      "metadata": {
        "id": "j1yLUQmP8B7x"
      },
      "source": [
        "X = X / 255"
      ],
      "execution_count": null,
      "outputs": []
    },
    {
      "cell_type": "code",
      "metadata": {
        "id": "eVTJL6i78B7y"
      },
      "source": [
        "from sklearn.svm import SVC \n",
        "from sklearn.metrics import accuracy_score\n",
        "\n",
        "from sklearn.model_selection import train_test_split\n",
        "x_train, x_test, y_train, y_test = train_test_split(X, Y, test_size=0.20)"
      ],
      "execution_count": null,
      "outputs": []
    },
    {
      "cell_type": "code",
      "metadata": {
        "id": "ics7u-Ua8B7z"
      },
      "source": [
        "y_train=y_train.astype(int)\n",
        "y_train2=[]\n",
        "for i in  range(y_train.shape[0]):\n",
        "  \n",
        "    if y_train[i][0]==1 and y_train[i][1]==0 and y_train[i][2]==0:\n",
        "        y_train2.append(1)\n",
        "    if y_train[i][0]==0 and y_train[i][1]==1 and y_train[i][2]==0:\n",
        "        y_train2.append(2)\n",
        "    if y_train[i][0]==0 and y_train[i][1]==0 and y_train[i][2]==1:\n",
        "        y_train2.append(3)\n",
        "    "
      ],
      "execution_count": null,
      "outputs": []
    },
    {
      "cell_type": "code",
      "metadata": {
        "id": "QBUQcb-H8B70",
        "outputId": "ef136e6c-cddb-4505-815c-6bf91bc3d82e"
      },
      "source": [
        "y_train = np.array(y_train2)\n",
        "y_train.shape"
      ],
      "execution_count": null,
      "outputs": [
        {
          "output_type": "execute_result",
          "data": {
            "text/plain": [
              "(3257,)"
            ]
          },
          "metadata": {
            "tags": []
          },
          "execution_count": 8
        }
      ]
    },
    {
      "cell_type": "code",
      "metadata": {
        "id": "94WtJIjD8B73"
      },
      "source": [
        "y_test=y_test.astype(int)\n",
        "y_test2=[]\n",
        "for i in  range(y_test.shape[0]):\n",
        "  \n",
        "    if y_test[i][0]==1 and y_test[i][1]==0 and y_test[i][2]==0:\n",
        "        y_test2.append(1)\n",
        "    if y_test[i][0]==0 and y_test[i][1]==1 and y_test[i][2]==0:\n",
        "        y_test2.append(2)\n",
        "    if y_test[i][0]==0 and y_test[i][1]==0 and y_test[i][2]==1:\n",
        "        y_test2.append(3)\n",
        "    "
      ],
      "execution_count": null,
      "outputs": []
    },
    {
      "cell_type": "code",
      "metadata": {
        "id": "n70ktH6t8B74"
      },
      "source": [
        ""
      ],
      "execution_count": null,
      "outputs": []
    },
    {
      "cell_type": "code",
      "metadata": {
        "id": "YSVVy36w8B76"
      },
      "source": [
        ""
      ],
      "execution_count": null,
      "outputs": []
    },
    {
      "cell_type": "code",
      "metadata": {
        "id": "z83h2dP38B76",
        "outputId": "525a05ba-6d7a-4337-f65d-495d379446c0"
      },
      "source": [
        "from sklearn.svm import SVC \n",
        "svc = SVC()\n",
        "print(x_train.shape)\n",
        "print(y_train.shape)\n",
        "svc.fit(x_train,y_train)\n",
        "print(x_train.shape)"
      ],
      "execution_count": null,
      "outputs": [
        {
          "output_type": "stream",
          "text": [
            "(3257, 30000)\n",
            "(3257,)\n",
            "(3257, 30000)\n"
          ],
          "name": "stdout"
        }
      ]
    },
    {
      "cell_type": "code",
      "metadata": {
        "id": "ZcMM6Sdl8B77"
      },
      "source": [
        "y_pred=svc.predict(x_test)"
      ],
      "execution_count": null,
      "outputs": []
    },
    {
      "cell_type": "code",
      "metadata": {
        "id": "NARAtJom8B78",
        "outputId": "59fbc0c9-13c2-46de-c031-65cc417a97b8"
      },
      "source": [
        "\n",
        "y_test = np.array(y_test2)\n",
        "#print(y_test)\n",
        "y_train.shape\n",
        "accuracy_score(y_test, y_pred)"
      ],
      "execution_count": null,
      "outputs": [
        {
          "output_type": "execute_result",
          "data": {
            "text/plain": [
              "0.9361963190184049"
            ]
          },
          "metadata": {
            "tags": []
          },
          "execution_count": 13
        }
      ]
    },
    {
      "cell_type": "code",
      "metadata": {
        "id": "p_Vj8DO9j0zk"
      },
      "source": [
        ""
      ],
      "execution_count": null,
      "outputs": []
    },
    {
      "cell_type": "code",
      "metadata": {
        "id": "4-80_uwRj0Y5"
      },
      "source": [
        ""
      ],
      "execution_count": null,
      "outputs": []
    },
    {
      "cell_type": "code",
      "metadata": {
        "id": "mhyNTwWLj0Xp"
      },
      "source": [
        ""
      ],
      "execution_count": null,
      "outputs": []
    },
    {
      "cell_type": "code",
      "metadata": {
        "id": "eVnfv4Wmjzuu"
      },
      "source": [
        ""
      ],
      "execution_count": null,
      "outputs": []
    },
    {
      "cell_type": "code",
      "metadata": {
        "id": "bDtmnZafjy0g"
      },
      "source": [
        ""
      ],
      "execution_count": null,
      "outputs": []
    }
  ]
}